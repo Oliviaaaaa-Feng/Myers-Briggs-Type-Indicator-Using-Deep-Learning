{
 "cells": [
  {
   "cell_type": "markdown",
   "id": "02cca3d1-81a8-4136-8cc8-4022dfc3a6a4",
   "metadata": {},
   "source": [
    "# Myers-Briggs Type Indicator Using Deep Learning (Natural Language Processing)"
   ]
  },
  {
   "cell_type": "code",
   "execution_count": 2,
   "id": "9c7d3a75-b2fa-4751-9130-e8b6278ea705",
   "metadata": {},
   "outputs": [],
   "source": [
    "import numpy as np\n",
    "import pandas as pd\n",
    "import nltk\n",
    "import re\n",
    "import torch\n",
    "import os\n",
    "import matplotlib.pyplot as plt\n",
    "import torch.nn as nn\n",
    "import seaborn as sns\n",
    "\n",
    "from sklearn.metrics import accuracy_score, f1_score, classification_report, precision_score, recall_score\n",
    "from sklearn.model_selection import train_test_split\n",
    "from sklearn.preprocessing import LabelEncoder\n",
    "from transformers import (\n",
    "    BertTokenizer,\n",
    "    BertForSequenceClassification,\n",
    "    BertModel,\n",
    "    Trainer,\n",
    "    TrainingArguments,\n",
    "    EarlyStoppingCallback,\n",
    "    Trainer,\n",
    ")\n",
    "from sklearn.linear_model import LogisticRegression\n",
    "from sklearn.metrics import confusion_matrix\n",
    "from sklearn.preprocessing import LabelEncoder\n",
    "from sklearn.metrics import classification_report\n",
    "from sklearn.model_selection import train_test_split\n",
    "from tensorflow.keras.models import Sequential\n",
    "from tensorflow.keras.layers import Embedding, LSTM, Dense, Dropout\n",
    "from tensorflow.keras.preprocessing.text import Tokenizer\n",
    "from tensorflow.keras.preprocessing.sequence import pad_sequences\n",
    "from collections import defaultdict"
   ]
  },
  {
   "cell_type": "code",
   "execution_count": 3,
   "id": "2016446a-694b-41df-acef-ae344637f44c",
   "metadata": {},
   "outputs": [],
   "source": [
    "# Import dataset\n",
    "mbti_df = pd.read_csv(\"mbti_1.csv\")"
   ]
  },
  {
   "cell_type": "code",
   "execution_count": 3,
   "id": "4a9ea1a3-ded4-4f7d-b334-467e5dcdfb74",
   "metadata": {
    "scrolled": true
   },
   "outputs": [
    {
     "data": {
      "text/plain": [
       "type\n",
       "INFP    1832\n",
       "INFJ    1470\n",
       "INTP    1304\n",
       "INTJ    1091\n",
       "ENTP     685\n",
       "ENFP     675\n",
       "ISTP     337\n",
       "ISFP     271\n",
       "ENTJ     231\n",
       "ISTJ     205\n",
       "ENFJ     190\n",
       "ISFJ     166\n",
       "ESTP      89\n",
       "ESFP      48\n",
       "ESFJ      42\n",
       "ESTJ      39\n",
       "Name: count, dtype: int64"
      ]
     },
     "execution_count": 3,
     "metadata": {},
     "output_type": "execute_result"
    }
   ],
   "source": [
    "mbti_counts = mbti_df['type'].value_counts()\n",
    "mbti_counts"
   ]
  },
  {
   "cell_type": "markdown",
   "id": "bfad525b-e469-4468-bd47-3c1157ec1b22",
   "metadata": {},
   "source": [
    "## Data Visualization"
   ]
  },
  {
   "cell_type": "code",
   "execution_count": 4,
   "id": "d12e4d6d-c346-4afa-ade0-c5979fc38c3b",
   "metadata": {
    "scrolled": true
   },
   "outputs": [
    {
     "data": {
      "image/png": "[encoded data removed]",
      "text/plain": [
       "<Figure size 600x300 with 1 Axes>"
      ]
     },
     "metadata": {},
     "output_type": "display_data"
    }
   ],
   "source": [
    "# Generate the graph of Frequency of MBTI Types\n",
    "mbti_counts = mbti_df['type'].value_counts()\n",
    "plt.figure(figsize=(6, 3))\n",
    "plt.bar(mbti_counts.index, mbti_counts.values, color='green')\n",
    "plt.xlabel(\"MBTI Types\")\n",
    "plt.ylabel(\"Frequency\")\n",
    "plt.title(\"Frequency of MBTI Types (First 500 Rows)\")\n",
    "plt.xticks(rotation=45, ha='right')\n",
    "plt.tight_layout()\n",
    "plt.show()"
   ]
  },
  {
   "cell_type": "markdown",
   "id": "a5474639-b0f3-4929-be81-484c26309e60",
   "metadata": {},
   "source": [
    "## Preprocessing"
   ]
  },
  {
   "cell_type": "code",
   "execution_count": null,
   "id": "af01eb3b-97d5-4ccb-a3c8-16b3ec792ac1",
   "metadata": {},
   "outputs": [],
   "source": [
    "# to convert text in posts to lowercase\n",
    "mbti_df[\"posts\"] = mbti_df[\"posts\"].str.lower()\n",
    "\n",
    "# to remove web links from the posts content\n",
    "mbti_df[\"posts\"] = mbti_df[\"posts\"].apply(lambda x: re.sub(r'https?://\\S+|www\\.\\S+', ' ', x))\n",
    "\n",
    "# to remove numbers, special characters, underscores, and plus signs, leaving only clean text with spaces.\n",
    "mbti_df[\"posts\"] = mbti_df[\"posts\"].apply(lambda x: re.sub(r'[0-9]', ' ', x))\n",
    "mbti_df[\"posts\"] = mbti_df[\"posts\"].apply(lambda x: re.sub(r'[_+\\W]+', ' ', x))\n",
    "\n",
    "# to normalize the text by ensuring consistent spacing\n",
    "mbti_df[\"posts\"] = mbti_df[\"posts\"].apply(lambda x: re.sub(r'\\s+', ' ', x).strip())\n",
    "\n",
    "# to remove stop words\n",
    "from nltk.corpus import stopwords\n",
    "stop_words = set(stopwords.words(\"english\"))\n",
    "mbti_df[\"posts\"] = mbti_df[\"posts\"].apply(lambda x: \" \".join([word for word in x.split() if word not in stop_words]))\n",
    "\n",
    "# to implement lemmetization i.e. to group together different forms of a word\n",
    "from nltk.stem import WordNetLemmatizer\n",
    "lemmatizer = WordNetLemmatizer()\n",
    "mbti_df[\"posts\"] = mbti_df[\"posts\"].apply(lambda x: \" \".join([lemmatizer.lemmatize(word) for word in x.split()]))\n",
    "\n",
    "# to replace the word in posts with its synonym from WordNet to add variety to the text or enhance its semantic representation\n",
    "from nltk.corpus import wordnet\n",
    "\n",
    "def get_synonym(word):\n",
    "    syns = wordnet.synsets(word)\n",
    "    if syns:\n",
    "        return syns[0].lemmas()[0].name()\n",
    "    return word\n",
    "\n",
    "mbti_df[\"posts\"] = mbti_df[\"posts\"].apply(lambda x: \" \".join([get_synonym(word) for word in x.split()]))\n",
    "\n",
    "# Add columns for each MBTI dimension\n",
    "mbti_df['IE'] = mbti_df['type'].apply(lambda x: x[0])\n",
    "mbti_df['NS'] = mbti_df['type'].apply(lambda x: x[1])\n",
    "mbti_df['TF'] = mbti_df['type'].apply(lambda x: x[2])\n",
    "mbti_df['JP'] = mbti_df['type'].apply(lambda x: x[3])"
   ]
  },
  {
   "cell_type": "code",
   "execution_count": null,
   "id": "3d7dd0ef-f869-4e91-9df5-2b471e27d0f3",
   "metadata": {},
   "outputs": [],
   "source": [
    "# Get device\n",
    "def get_device():\n",
    "    if torch.cuda.is_available():\n",
    "        device = torch.device(\"cuda\")\n",
    "        print(\"Using CUDA\")\n",
    "    elif torch.backends.mps.is_available():\n",
    "        device = torch.device(\"mps\")\n",
    "        print(\"Using MPS\")\n",
    "    else:\n",
    "        device = torch.device(\"cpu\")\n",
    "        print(\"Using CPU\")\n",
    "    return device\n",
    "\n",
    "device = get_device()"
   ]
  },
  {
   "cell_type": "markdown",
   "id": "53bdd6f2-9545-4a43-8872-b13f2f99cad1",
   "metadata": {},
   "source": [
    "## LSTM"
   ]
  },
  {
   "cell_type": "code",
   "execution_count": null,
   "id": "1ad65f09",
   "metadata": {},
   "outputs": [
    {
     "name": "stdout",
     "output_type": "stream",
     "text": [
      "--- Classification for Dimension: IE ---\n"
     ]
    },
    {
     "name": "stderr",
     "output_type": "stream",
     "text": [
      "/usr/local/lib/python3.10/dist-packages/keras/src/layers/core/embedding.py:90: UserWarning: Argument `input_length` is deprecated. Just remove it.\n",
      "  warnings.warn(\n"
     ]
    },
    {
     "name": "stdout",
     "output_type": "stream",
     "text": [
      "Epoch 1/5\n",
      "217/217 - 12s - 53ms/step - accuracy: 0.7666 - loss: 0.5569 - val_accuracy: 0.7775 - val_loss: 0.5342\n",
      "Epoch 2/5\n",
      "217/217 - 4s - 17ms/step - accuracy: 0.7716 - loss: 0.5047 - val_accuracy: 0.7746 - val_loss: 0.5494\n",
      "Epoch 3/5\n",
      "217/217 - 3s - 13ms/step - accuracy: 0.8205 - loss: 0.4047 - val_accuracy: 0.7637 - val_loss: 0.6083\n",
      "Epoch 4/5\n",
      "217/217 - 4s - 16ms/step - accuracy: 0.8749 - loss: 0.2994 - val_accuracy: 0.7556 - val_loss: 0.6911\n",
      "Epoch 5/5\n",
      "217/217 - 4s - 20ms/step - accuracy: 0.9239 - loss: 0.1928 - val_accuracy: 0.6997 - val_loss: 0.9896\n",
      "\u001b[1m55/55\u001b[0m \u001b[32m━━━━━━━━━━━━━━━━━━━━\u001b[0m\u001b[37m\u001b[0m \u001b[1m0s\u001b[0m 6ms/step\n",
      "Classification Report:\n",
      "               precision    recall  f1-score   support\n",
      "\n",
      "           E       0.29      0.25      0.27       382\n",
      "           I       0.80      0.83      0.81      1353\n",
      "\n",
      "    accuracy                           0.70      1735\n",
      "   macro avg       0.54      0.54      0.54      1735\n",
      "weighted avg       0.68      0.70      0.69      1735\n",
      "\n",
      "--- Classification for Dimension: NS ---\n",
      "Epoch 1/5\n"
     ]
    },
    {
     "name": "stderr",
     "output_type": "stream",
     "text": [
      "/usr/local/lib/python3.10/dist-packages/keras/src/layers/core/embedding.py:90: UserWarning: Argument `input_length` is deprecated. Just remove it.\n",
      "  warnings.warn(\n"
     ]
    },
    {
     "name": "stdout",
     "output_type": "stream",
     "text": [
      "217/217 - 6s - 28ms/step - accuracy: 0.8579 - loss: 0.4322 - val_accuracy: 0.8582 - val_loss: 0.4109\n",
      "Epoch 2/5\n",
      "217/217 - 4s - 20ms/step - accuracy: 0.8634 - loss: 0.3877 - val_accuracy: 0.8530 - val_loss: 0.4312\n",
      "Epoch 3/5\n",
      "217/217 - 3s - 13ms/step - accuracy: 0.8793 - loss: 0.3117 - val_accuracy: 0.8259 - val_loss: 0.4777\n",
      "Epoch 4/5\n",
      "217/217 - 3s - 14ms/step - accuracy: 0.9108 - loss: 0.2275 - val_accuracy: 0.7810 - val_loss: 0.5710\n",
      "Epoch 5/5\n",
      "217/217 - 4s - 16ms/step - accuracy: 0.9427 - loss: 0.1608 - val_accuracy: 0.8086 - val_loss: 0.6648\n",
      "\u001b[1m55/55\u001b[0m \u001b[32m━━━━━━━━━━━━━━━━━━━━\u001b[0m\u001b[37m\u001b[0m \u001b[1m0s\u001b[0m 6ms/step\n",
      "Classification Report:\n",
      "               precision    recall  f1-score   support\n",
      "\n",
      "           N       0.86      0.93      0.89      1489\n",
      "           S       0.16      0.09      0.11       246\n",
      "\n",
      "    accuracy                           0.81      1735\n",
      "   macro avg       0.51      0.51      0.50      1735\n",
      "weighted avg       0.76      0.81      0.78      1735\n",
      "\n",
      "--- Classification for Dimension: TF ---\n",
      "Epoch 1/5\n"
     ]
    },
    {
     "name": "stderr",
     "output_type": "stream",
     "text": [
      "/usr/local/lib/python3.10/dist-packages/keras/src/layers/core/embedding.py:90: UserWarning: Argument `input_length` is deprecated. Just remove it.\n",
      "  warnings.warn(\n"
     ]
    },
    {
     "name": "stdout",
     "output_type": "stream",
     "text": [
      "217/217 - 6s - 26ms/step - accuracy: 0.5487 - loss: 0.6872 - val_accuracy: 0.5683 - val_loss: 0.6807\n",
      "Epoch 2/5\n",
      "217/217 - 4s - 18ms/step - accuracy: 0.6130 - loss: 0.6633 - val_accuracy: 0.5493 - val_loss: 0.6854\n",
      "Epoch 3/5\n",
      "217/217 - 5s - 24ms/step - accuracy: 0.7073 - loss: 0.5852 - val_accuracy: 0.5965 - val_loss: 0.7066\n",
      "Epoch 4/5\n",
      "217/217 - 3s - 15ms/step - accuracy: 0.7902 - loss: 0.4688 - val_accuracy: 0.6352 - val_loss: 0.7477\n",
      "Epoch 5/5\n",
      "217/217 - 5s - 23ms/step - accuracy: 0.8607 - loss: 0.3456 - val_accuracy: 0.6046 - val_loss: 0.8978\n",
      "\u001b[1m55/55\u001b[0m \u001b[32m━━━━━━━━━━━━━━━━━━━━\u001b[0m\u001b[37m\u001b[0m \u001b[1m0s\u001b[0m 6ms/step\n",
      "Classification Report:\n",
      "               precision    recall  f1-score   support\n",
      "\n",
      "           F       0.62      0.71      0.66       937\n",
      "           T       0.58      0.48      0.53       798\n",
      "\n",
      "    accuracy                           0.60      1735\n",
      "   macro avg       0.60      0.60      0.59      1735\n",
      "weighted avg       0.60      0.60      0.60      1735\n",
      "\n",
      "--- Classification for Dimension: JP ---\n",
      "Epoch 1/5\n"
     ]
    },
    {
     "name": "stderr",
     "output_type": "stream",
     "text": [
      "/usr/local/lib/python3.10/dist-packages/keras/src/layers/core/embedding.py:90: UserWarning: Argument `input_length` is deprecated. Just remove it.\n",
      "  warnings.warn(\n"
     ]
    },
    {
     "name": "stdout",
     "output_type": "stream",
     "text": [
      "217/217 - 6s - 27ms/step - accuracy: 0.6009 - loss: 0.6745 - val_accuracy: 0.6144 - val_loss: 0.6703\n",
      "Epoch 2/5\n",
      "217/217 - 3s - 13ms/step - accuracy: 0.6290 - loss: 0.6438 - val_accuracy: 0.5850 - val_loss: 0.6955\n",
      "Epoch 3/5\n",
      "217/217 - 3s - 13ms/step - accuracy: 0.7362 - loss: 0.5400 - val_accuracy: 0.5251 - val_loss: 0.7832\n",
      "Epoch 4/5\n",
      "217/217 - 6s - 27ms/step - accuracy: 0.8258 - loss: 0.3985 - val_accuracy: 0.5735 - val_loss: 0.9500\n",
      "Epoch 5/5\n",
      "217/217 - 3s - 15ms/step - accuracy: 0.8945 - loss: 0.2717 - val_accuracy: 0.5280 - val_loss: 1.2173\n",
      "\u001b[1m55/55\u001b[0m \u001b[32m━━━━━━━━━━━━━━━━━━━━\u001b[0m\u001b[37m\u001b[0m \u001b[1m1s\u001b[0m 9ms/step\n",
      "Classification Report:\n",
      "               precision    recall  f1-score   support\n",
      "\n",
      "           J       0.40      0.45      0.42       669\n",
      "           P       0.63      0.58      0.60      1066\n",
      "\n",
      "    accuracy                           0.53      1735\n",
      "   macro avg       0.51      0.51      0.51      1735\n",
      "weighted avg       0.54      0.53      0.53      1735\n",
      "\n"
     ]
    }
   ],
   "source": [
    "# Define the list of dimensions to classify\n",
    "dimensions = ['IE', 'NS', 'TF', 'JP']\n",
    "\n",
    "# Hyperparameters\n",
    "max_words = 5000  \n",
    "max_len = 300  \n",
    "embedding_dim = 128  \n",
    "\n",
    "# Initialize the tokenizer\n",
    "tokenizer = Tokenizer(num_words=max_words, oov_token=\"<OOV>\")\n",
    "tokenizer.fit_on_texts(mbti_df['posts'])\n",
    "\n",
    "# Iterate over each dimension and classify\n",
    "for dim in dimensions:\n",
    "    print(f\"--- Classification for Dimension: {dim} ---\")\n",
    "\n",
    "    posts = mbti_df['posts']\n",
    "    labels = mbti_df[dim]\n",
    "\n",
    "    label_encoder = LabelEncoder()\n",
    "    labels_encoded = label_encoder.fit_transform(labels)\n",
    "    labels_encoded = np.array(labels_encoded)\n",
    "\n",
    "    train_post, test_post, train_target, test_target = train_test_split(\n",
    "        posts, labels_encoded, test_size=0.2, random_state=42\n",
    "    )\n",
    "\n",
    "    train_sequences = tokenizer.texts_to_sequences(train_post)\n",
    "    test_sequences = tokenizer.texts_to_sequences(test_post)\n",
    "\n",
    "    train_padded = pad_sequences(train_sequences, maxlen=max_len, padding='post', truncating='post')\n",
    "    test_padded = pad_sequences(test_sequences, maxlen=max_len, padding='post', truncating='post')\n",
    "\n",
    "    # Build the LSTM model\n",
    "    model = Sequential([\n",
    "        Embedding(max_words, embedding_dim, input_length=max_len),\n",
    "        LSTM(128, return_sequences=False),\n",
    "        Dropout(0.5),\n",
    "        Dense(64, activation='relu'),\n",
    "        Dropout(0.5),\n",
    "        Dense(1, activation='sigmoid')  \n",
    "    ])\n",
    "\n",
    "    # Compile the model\n",
    "    model.compile(optimizer='adam', loss='binary_crossentropy', metrics=['accuracy'])\n",
    "\n",
    "    # Train the model\n",
    "    model.fit(\n",
    "        train_padded, train_target,\n",
    "        validation_data=(txest_padded, test_target),\n",
    "        epochs=5, batch_size=32, verbose=2\n",
    "    )\n",
    "\n",
    "    # Make predictions on the test set\n",
    "    predictions = model.predict(test_padded).flatten()\n",
    "    pred_labels = (predictions > 0.5).astype(int)\n",
    "\n",
    "    print(\"Classification Report:\\n\",\n",
    "          classification_report(test_target, pred_labels, target_names=label_encoder.classes_))\n"
   ]
  },
  {
   "cell_type": "markdown",
   "id": "53bf0d60-d349-41fc-9b36-c537a58ea08a",
   "metadata": {},
   "source": [
    "## Preparation"
   ]
  },
  {
   "cell_type": "code",
   "execution_count": 20,
   "id": "a74059e5-a626-4c03-9d34-56772d8ec2a9",
   "metadata": {},
   "outputs": [],
   "source": [
    "# Initialize the tokenizer\n",
    "tokenizer = BertTokenizer.from_pretrained('bert-base-uncased')\n",
    "\n",
    "# Define a custom dataset class\n",
    "class MBTIDataset(torch.utils.data.Dataset):\n",
    "    def __init__(self, encodings, labels):\n",
    "        self.encodings = encodings\n",
    "        self.labels = labels\n",
    "\n",
    "    def __getitem__(self, idx):\n",
    "        item = {key: torch.tensor(val[idx]) for key, val in self.encodings.items()}\n",
    "        item[\"labels\"] = torch.tensor(self.labels[idx])\n",
    "        return item\n",
    "\n",
    "    def __len__(self):\n",
    "        return len(self.labels)\n",
    "\n",
    "# Metrics function for evaluation\n",
    "def compute_metrics(pred):\n",
    "    labels = pred.label_ids\n",
    "    preds = pred.predictions.argmax(-1)\n",
    "    accuracy = accuracy_score(labels, preds)\n",
    "    f1 = f1_score(labels, preds, average=\"binary\", zero_division=1)\n",
    "    precision = precision_score(labels, preds, average=\"binary\", zero_division=1)\n",
    "    recall = recall_score(labels, preds, average=\"binary\", zero_division=1)\n",
    "    return {\n",
    "        \"accuracy\": accuracy,\n",
    "        \"f1\": f1,\n",
    "        \"precision\": precision,\n",
    "        \"recall\": recall,\n",
    "    }\n",
    "    \n",
    "# Split text into chunks\n",
    "def split_text_into_chunks(text, tokenizer, max_length=128):\n",
    "    tokens = tokenizer.tokenize(text)\n",
    "    chunk_size = max_length - 2\n",
    "    chunks = [tokens[i:i+chunk_size] for i in range(0, len(tokens), chunk_size)]\n",
    "    chunk_texts = [tokenizer.convert_tokens_to_string(chunk) for chunk in chunks]\n",
    "    return chunk_texts"
   ]
  },
  {
   "cell_type": "markdown",
   "id": "eecbecb6-a775-4858-a551-0a35c5379d6d",
   "metadata": {},
   "source": [
    "## Baseline Model"
   ]
  },
  {
   "cell_type": "code",
   "execution_count": 21,
   "id": "b1f2b032-2152-42ff-9bb8-bbd6950ada51",
   "metadata": {},
   "outputs": [],
   "source": [
    "# Baseline model with BERT embeddings\n",
    "def train_baseline_model(train_data, test_data, train_labels, test_labels, label_encoder, dimension):\n",
    "    print(f\"\\nTraining Logistic Regression on BERT embeddings for {dimension} dimension...\")\n",
    "\n",
    "    bert_model = BertModel.from_pretrained('bert-base-uncased').to(device)\n",
    "    bert_model.eval()\n",
    "\n",
    "    def get_embeddings(text_data):\n",
    "        embeddings = []\n",
    "        batch_size = 16\n",
    "        for i in range(0, len(text_data), batch_size):\n",
    "            batch_texts = text_data[i:i+batch_size].tolist()\n",
    "            inputs = tokenizer(\n",
    "                batch_texts,\n",
    "                return_tensors='pt',\n",
    "                truncation=True,\n",
    "                padding=True,\n",
    "                max_length=128\n",
    "            ).to(device)\n",
    "            with torch.no_grad():\n",
    "                outputs = bert_model(**inputs)\n",
    "                batch_embeddings = outputs.last_hidden_state[:, 0, :].cpu().numpy()\n",
    "                embeddings.append(batch_embeddings)\n",
    "        embeddings = np.concatenate(embeddings, axis=0)\n",
    "        return embeddings\n",
    "\n",
    "\n",
    "    # Get embeddings for train and test data\n",
    "    train_embeddings = get_embeddings(train_data)\n",
    "    test_embeddings = get_embeddings(test_data)\n",
    "\n",
    "    # Train logistic regression model on embeddings\n",
    "    lr_model = LogisticRegression(max_iter=1000)\n",
    "    lr_model.fit(train_embeddings, train_labels)\n",
    "\n",
    "    # Predictions\n",
    "    preds = lr_model.predict(test_embeddings)\n",
    "\n",
    "    # Evaluation\n",
    "    accuracy = accuracy_score(test_labels, preds)\n",
    "    f1 = f1_score(test_labels, preds, average=\"binary\", zero_division=1)\n",
    "    precision = precision_score(test_labels, preds, average=\"binary\", zero_division=1)\n",
    "    recall = recall_score(test_labels, preds, average=\"binary\", zero_division=1)\n",
    "    print(f\"BERT Embeddings + Logistic Regression Results for {dimension} dimension:\")\n",
    "    print(f\"Accuracy: {accuracy:.4f}\")\n",
    "    print(f\"F1 Score: {f1:.4f}\")\n",
    "    print(f\"Precision: {precision:.4f}\")\n",
    "    print(f\"Recall: {recall:.4f}\")\n",
    "\n",
    "    # Classification report\n",
    "    report = classification_report(test_labels, preds, target_names=label_encoder.classes_, zero_division=1)\n",
    "    print(f\"\\nClassification Report for BERT Embeddings + Logistic Regression Model ({dimension} dimension):\\n\", report)"
   ]
  },
  {
   "cell_type": "markdown",
   "id": "427db7bd-231b-4ecb-9a72-5f538805a097",
   "metadata": {},
   "source": [
    "## Bert Model"
   ]
  },
  {
   "cell_type": "code",
   "execution_count": 22,
   "id": "6204bd03-ba04-4ef0-9f7b-8c9633aae0e9",
   "metadata": {},
   "outputs": [],
   "source": [
    "# Function to train and evaluate BERT model for each MBTI dimension\n",
    "def train_bert_model(train_data, test_data, train_labels, test_labels, dimension, label_encoder, num_epochs=3):\n",
    "    print(f\"\\nTraining Fine-Tuned BERT model for {dimension} dimension...\")\n",
    "    train_chunks = []\n",
    "    train_chunk_labels = []\n",
    "    train_chunk_orig_indices = []\n",
    "\n",
    "    for idx, (text, label) in enumerate(zip(train_data, train_labels)):\n",
    "        chunks = split_text_into_chunks(text, tokenizer, max_length=128)\n",
    "        train_chunks.extend(chunks)\n",
    "        train_chunk_labels.extend([label]*len(chunks))\n",
    "        train_chunk_orig_indices.extend([idx]*len(chunks))\n",
    "\n",
    "    test_chunks = []\n",
    "    test_chunk_labels = []\n",
    "    test_chunk_orig_indices = []\n",
    "\n",
    "    for idx, (text, label) in enumerate(zip(test_data, test_labels)):\n",
    "        chunks = split_text_into_chunks(text, tokenizer, max_length=128)\n",
    "        test_chunks.extend(chunks)\n",
    "        test_chunk_labels.extend([label]*len(chunks))\n",
    "        test_chunk_orig_indices.extend([idx]*len(chunks))\n",
    "\n",
    "    # Tokenization and encoding\n",
    "    train_encodings = tokenizer(\n",
    "        train_chunks,\n",
    "        truncation=True,\n",
    "        padding=True,\n",
    "        max_length=128\n",
    "    )\n",
    "\n",
    "    test_encodings = tokenizer(\n",
    "        test_chunks,\n",
    "        truncation=True,\n",
    "        padding=True,\n",
    "        max_length=128\n",
    "    )\n",
    "\n",
    "    # Create datasets\n",
    "    train_dataset = MBTIDataset(train_encodings, train_chunk_labels)\n",
    "    test_dataset = MBTIDataset(test_encodings, test_chunk_labels)\n",
    "\n",
    "    # Load model for binary classification\n",
    "    model = BertForSequenceClassification.from_pretrained(\n",
    "        'bert-base-uncased',\n",
    "        num_labels=2\n",
    "    ).to(device)\n",
    "\n",
    "    # Adjust hyperparameters\n",
    "    training_args = TrainingArguments(\n",
    "        output_dir=f'./results_{dimension}',\n",
    "        num_train_epochs=num_epochs,\n",
    "        per_device_train_batch_size=8,\n",
    "        per_device_eval_batch_size=8,\n",
    "        evaluation_strategy='epoch',\n",
    "        save_strategy='epoch',\n",
    "        logging_dir=f'./logs_{dimension}',\n",
    "        logging_steps=100,\n",
    "        learning_rate=2e-5,\n",
    "        load_best_model_at_end=True,\n",
    "        metric_for_best_model='eval_loss',\n",
    "        greater_is_better=False,\n",
    "        fp16=False,\n",
    "        dataloader_num_workers=0,\n",
    "    )\n",
    "\n",
    "    # Initialize the Trainer\n",
    "    trainer = Trainer(\n",
    "        model=model,\n",
    "        args=training_args,\n",
    "        train_dataset=train_dataset,\n",
    "        eval_dataset=test_dataset,\n",
    "        compute_metrics=compute_metrics,\n",
    "        callbacks=[EarlyStoppingCallback(early_stopping_patience=2)],\n",
    "    )\n",
    "\n",
    "    # Fine-tune BERT model\n",
    "    trainer.train()\n",
    "\n",
    "    # Evaluate the BERT model\n",
    "    preds_output = trainer.predict(test_dataset)\n",
    "    preds = preds_output.predictions.argmax(-1)\n",
    "\n",
    "    preds_per_text = defaultdict(list)\n",
    "    labels_per_text = {}\n",
    "\n",
    "    for idx, pred, label in zip(test_chunk_orig_indices, preds, test_chunk_labels):\n",
    "        preds_per_text[idx].append(pred)\n",
    "        labels_per_text[idx] = label\n",
    "\n",
    "    # Compute the final prediction\n",
    "    final_preds = []\n",
    "    final_labels = []\n",
    "    for idx in preds_per_text.keys():\n",
    "        chunk_preds = preds_per_text[idx]\n",
    "        # Majority voting\n",
    "        final_pred = max(set(chunk_preds), key=chunk_preds.count)\n",
    "        final_preds.append(final_pred)\n",
    "        final_labels.append(labels_per_text[idx])\n",
    "\n",
    "    # Compute metrics\n",
    "    accuracy = accuracy_score(final_labels, final_preds)\n",
    "    f1 = f1_score(final_labels, final_preds, average=\"binary\", zero_division=1)\n",
    "    precision = precision_score(final_labels, final_preds, average=\"binary\", zero_division=1)\n",
    "    recall = recall_score(final_labels, final_preds, average=\"binary\", zero_division=1)\n",
    "    print(f\"Fine-Tuned BERT Model Results for {dimension} dimension:\")\n",
    "    print(f\"Accuracy: {accuracy:.4f}\")\n",
    "    print(f\"F1 Score: {f1:.4f}\")\n",
    "    print(f\"Precision: {precision:.4f}\")\n",
    "    print(f\"Recall: {recall:.4f}\")\n",
    "\n",
    "    # Classification report\n",
    "    report = classification_report(final_labels, final_preds, target_names=label_encoder.classes_, zero_division=1)\n",
    "    print(f\"\\nClassification Report for Fine-Tuned BERT Model ({dimension} dimension):\\n\", report)\n",
    "\n",
    "    # Confusion matrix\n",
    "    cm = confusion_matrix(final_labels, final_preds)\n",
    "    plt.figure(figsize=(6, 4))\n",
    "    sns.heatmap(cm, annot=True, fmt='d', cmap='Blues',\n",
    "                xticklabels=label_encoder.classes_,\n",
    "                yticklabels=label_encoder.classes_)\n",
    "    plt.xlabel('Predicted Labels')\n",
    "    plt.ylabel('True Labels')\n",
    "    plt.title(f'Confusion Matrix for {dimension} Dimension (Fine-Tuned BERT Model)')\n",
    "    plt.show()"
   ]
  },
  {
   "cell_type": "markdown",
   "id": "da51e59d-e44a-42d4-9494-24a8f4cbf802",
   "metadata": {},
   "source": [
    "## Train and Evaluate"
   ]
  },
  {
   "cell_type": "code",
   "execution_count": 23,
   "id": "46b0a2dd-953a-4bc9-8619-ce2242f19e5c",
   "metadata": {},
   "outputs": [
    {
     "name": "stdout",
     "output_type": "stream",
     "text": [
      "\n",
      "Processing MBTI dimension: IE\n",
      "\n",
      "Training Logistic Regression on BERT embeddings for IE dimension...\n",
      "BERT Embeddings + Logistic Regression Results for IE dimension:\n",
      "Accuracy: 0.7741\n",
      "F1 Score: 0.8664\n",
      "Precision: 0.7949\n",
      "Recall: 0.9521\n",
      "\n",
      "Classification Report for BERT Embeddings + Logistic Regression Model (IE dimension):\n",
      "               precision    recall  f1-score   support\n",
      "\n",
      "           E       0.53      0.18      0.27       400\n",
      "           I       0.79      0.95      0.87      1335\n",
      "\n",
      "    accuracy                           0.77      1735\n",
      "   macro avg       0.66      0.57      0.57      1735\n",
      "weighted avg       0.73      0.77      0.73      1735\n",
      "\n",
      "\n",
      "Training Fine-Tuned BERT model for IE dimension...\n"
     ]
    },
    {
     "name": "stderr",
     "output_type": "stream",
     "text": [
      "Some weights of BertForSequenceClassification were not initialized from the model checkpoint at bert-base-uncased and are newly initialized: ['classifier.bias', 'classifier.weight']\n",
      "You should probably TRAIN this model on a down-stream task to be able to use it for predictions and inference.\n",
      "/Users/olivia/Desktop/230_project/env/lib/python3.8/site-packages/transformers/training_args.py:1568: FutureWarning: `evaluation_strategy` is deprecated and will be removed in version 4.46 of 🤗 Transformers. Use `eval_strategy` instead\n",
      "  warnings.warn(\n"
     ]
    },
    {
     "data": {
      "text/html": [
       "\n",
       "    <div>\n",
       "      \n",
       "      <progress value='22984' max='57460' style='width:300px; height:20px; vertical-align: middle;'></progress>\n",
       "      [22984/57460 2:09:31 < 3:14:17, 2.96 it/s, Epoch 4/10]\n",
       "    </div>\n",
       "    <table border=\"1\" class=\"dataframe\">\n",
       "  <thead>\n",
       " <tr style=\"text-align: left;\">\n",
       "      <th>Epoch</th>\n",
       "      <th>Training Loss</th>\n",
       "      <th>Validation Loss</th>\n",
       "      <th>Accuracy</th>\n",
       "      <th>F1</th>\n",
       "      <th>Precision</th>\n",
       "      <th>Recall</th>\n",
       "    </tr>\n",
       "  </thead>\n",
       "  <tbody>\n",
       "    <tr>\n",
       "      <td>1</td>\n",
       "      <td>0.465500</td>\n",
       "      <td>0.545313</td>\n",
       "      <td>0.787188</td>\n",
       "      <td>0.875574</td>\n",
       "      <td>0.790899</td>\n",
       "      <td>0.980554</td>\n",
       "    </tr>\n",
       "    <tr>\n",
       "      <td>2</td>\n",
       "      <td>0.488800</td>\n",
       "      <td>0.474226</td>\n",
       "      <td>0.774670</td>\n",
       "      <td>0.852409</td>\n",
       "      <td>0.852698</td>\n",
       "      <td>0.852120</td>\n",
       "    </tr>\n",
       "    <tr>\n",
       "      <td>3</td>\n",
       "      <td>0.457300</td>\n",
       "      <td>0.492938</td>\n",
       "      <td>0.799879</td>\n",
       "      <td>0.875750</td>\n",
       "      <td>0.832637</td>\n",
       "      <td>0.923573</td>\n",
       "    </tr>\n",
       "    <tr>\n",
       "      <td>4</td>\n",
       "      <td>0.421500</td>\n",
       "      <td>0.490349</td>\n",
       "      <td>0.793231</td>\n",
       "      <td>0.869432</td>\n",
       "      <td>0.839545</td>\n",
       "      <td>0.901526</td>\n",
       "    </tr>\n",
       "  </tbody>\n",
       "</table><p>"
      ],
      "text/plain": [
       "<IPython.core.display.HTML object>"
      ]
     },
     "metadata": {},
     "output_type": "display_data"
    },
    {
     "data": {
      "text/html": [],
      "text/plain": [
       "<IPython.core.display.HTML object>"
      ]
     },
     "metadata": {},
     "output_type": "display_data"
    },
    {
     "name": "stdout",
     "output_type": "stream",
     "text": [
      "Fine-Tuned BERT Model Results for IE dimension:\n",
      "Accuracy: 0.8548\n",
      "F1 Score: 0.9080\n",
      "Precision: 0.8854\n",
      "Recall: 0.9318\n",
      "\n",
      "Classification Report for Fine-Tuned BERT Model (IE dimension):\n",
      "               precision    recall  f1-score   support\n",
      "\n",
      "           E       0.72      0.60      0.65       400\n",
      "           I       0.89      0.93      0.91      1335\n",
      "\n",
      "    accuracy                           0.85      1735\n",
      "   macro avg       0.80      0.76      0.78      1735\n",
      "weighted avg       0.85      0.85      0.85      1735\n",
      "\n"
     ]
    },
    {
     "data": {
      "image/png": "[encoded data removed]",
      "text/plain": [
       "<Figure size 600x400 with 2 Axes>"
      ]
     },
     "metadata": {},
     "output_type": "display_data"
    },
    {
     "name": "stdout",
     "output_type": "stream",
     "text": [
      "\n",
      "Processing MBTI dimension: NS\n",
      "\n",
      "Training Logistic Regression on BERT embeddings for NS dimension...\n",
      "BERT Embeddings + Logistic Regression Results for NS dimension:\n",
      "Accuracy: 0.8582\n",
      "F1 Score: 0.0611\n",
      "Precision: 0.3478\n",
      "Recall: 0.0335\n",
      "\n",
      "Classification Report for BERT Embeddings + Logistic Regression Model (NS dimension):\n",
      "               precision    recall  f1-score   support\n",
      "\n",
      "           N       0.87      0.99      0.92      1496\n",
      "           S       0.35      0.03      0.06       239\n",
      "\n",
      "    accuracy                           0.86      1735\n",
      "   macro avg       0.61      0.51      0.49      1735\n",
      "weighted avg       0.79      0.86      0.80      1735\n",
      "\n",
      "\n",
      "Training Fine-Tuned BERT model for NS dimension...\n"
     ]
    },
    {
     "name": "stderr",
     "output_type": "stream",
     "text": [
      "Some weights of BertForSequenceClassification were not initialized from the model checkpoint at bert-base-uncased and are newly initialized: ['classifier.bias', 'classifier.weight']\n",
      "You should probably TRAIN this model on a down-stream task to be able to use it for predictions and inference.\n",
      "/Users/olivia/Desktop/230_project/env/lib/python3.8/site-packages/transformers/training_args.py:1568: FutureWarning: `evaluation_strategy` is deprecated and will be removed in version 4.46 of 🤗 Transformers. Use `eval_strategy` instead\n",
      "  warnings.warn(\n"
     ]
    },
    {
     "data": {
      "text/html": [
       "\n",
       "    <div>\n",
       "      \n",
       "      <progress value='23000' max='57500' style='width:300px; height:20px; vertical-align: middle;'></progress>\n",
       "      [23000/57500 2:05:55 < 3:08:53, 3.04 it/s, Epoch 4/10]\n",
       "    </div>\n",
       "    <table border=\"1\" class=\"dataframe\">\n",
       "  <thead>\n",
       " <tr style=\"text-align: left;\">\n",
       "      <th>Epoch</th>\n",
       "      <th>Training Loss</th>\n",
       "      <th>Validation Loss</th>\n",
       "      <th>Accuracy</th>\n",
       "      <th>F1</th>\n",
       "      <th>Precision</th>\n",
       "      <th>Recall</th>\n",
       "    </tr>\n",
       "  </thead>\n",
       "  <tbody>\n",
       "    <tr>\n",
       "      <td>1</td>\n",
       "      <td>0.369900</td>\n",
       "      <td>0.402738</td>\n",
       "      <td>0.878518</td>\n",
       "      <td>0.247721</td>\n",
       "      <td>0.687500</td>\n",
       "      <td>0.151079</td>\n",
       "    </tr>\n",
       "    <tr>\n",
       "      <td>2</td>\n",
       "      <td>0.345200</td>\n",
       "      <td>0.360034</td>\n",
       "      <td>0.879037</td>\n",
       "      <td>0.351740</td>\n",
       "      <td>0.605431</td>\n",
       "      <td>0.247874</td>\n",
       "    </tr>\n",
       "    <tr>\n",
       "      <td>3</td>\n",
       "      <td>0.343200</td>\n",
       "      <td>0.396500</td>\n",
       "      <td>0.859728</td>\n",
       "      <td>0.403974</td>\n",
       "      <td>0.461733</td>\n",
       "      <td>0.359058</td>\n",
       "    </tr>\n",
       "    <tr>\n",
       "      <td>4</td>\n",
       "      <td>0.282900</td>\n",
       "      <td>0.501198</td>\n",
       "      <td>0.874968</td>\n",
       "      <td>0.372719</td>\n",
       "      <td>0.554981</td>\n",
       "      <td>0.280576</td>\n",
       "    </tr>\n",
       "  </tbody>\n",
       "</table><p>"
      ],
      "text/plain": [
       "<IPython.core.display.HTML object>"
      ]
     },
     "metadata": {},
     "output_type": "display_data"
    },
    {
     "data": {
      "text/html": [],
      "text/plain": [
       "<IPython.core.display.HTML object>"
      ]
     },
     "metadata": {},
     "output_type": "display_data"
    },
    {
     "name": "stdout",
     "output_type": "stream",
     "text": [
      "Fine-Tuned BERT Model Results for NS dimension:\n",
      "Accuracy: 0.8784\n",
      "F1 Score: 0.2156\n",
      "Precision: 0.9667\n",
      "Recall: 0.1213\n",
      "\n",
      "Classification Report for Fine-Tuned BERT Model (NS dimension):\n",
      "               precision    recall  f1-score   support\n",
      "\n",
      "           N       0.88      1.00      0.93      1496\n",
      "           S       0.97      0.12      0.22       239\n",
      "\n",
      "    accuracy                           0.88      1735\n",
      "   macro avg       0.92      0.56      0.57      1735\n",
      "weighted avg       0.89      0.88      0.84      1735\n",
      "\n"
     ]
    },
    {
     "data": {
      "image/png": "[encoded data removed]",
      "text/plain": [
       "<Figure size 600x400 with 2 Axes>"
      ]
     },
     "metadata": {},
     "output_type": "display_data"
    },
    {
     "name": "stdout",
     "output_type": "stream",
     "text": [
      "\n",
      "Processing MBTI dimension: TF\n",
      "\n",
      "Training Logistic Regression on BERT embeddings for TF dimension...\n",
      "BERT Embeddings + Logistic Regression Results for TF dimension:\n",
      "Accuracy: 0.6767\n",
      "F1 Score: 0.6452\n",
      "Precision: 0.6497\n",
      "Recall: 0.6407\n",
      "\n",
      "Classification Report for BERT Embeddings + Logistic Regression Model (TF dimension):\n",
      "               precision    recall  f1-score   support\n",
      "\n",
      "           F       0.70      0.71      0.70       939\n",
      "           T       0.65      0.64      0.65       796\n",
      "\n",
      "    accuracy                           0.68      1735\n",
      "   macro avg       0.67      0.67      0.67      1735\n",
      "weighted avg       0.68      0.68      0.68      1735\n",
      "\n",
      "\n",
      "Training Fine-Tuned BERT model for TF dimension...\n"
     ]
    },
    {
     "name": "stderr",
     "output_type": "stream",
     "text": [
      "Some weights of BertForSequenceClassification were not initialized from the model checkpoint at bert-base-uncased and are newly initialized: ['classifier.bias', 'classifier.weight']\n",
      "You should probably TRAIN this model on a down-stream task to be able to use it for predictions and inference.\n",
      "/Users/olivia/Desktop/230_project/env/lib/python3.8/site-packages/transformers/training_args.py:1568: FutureWarning: `evaluation_strategy` is deprecated and will be removed in version 4.46 of 🤗 Transformers. Use `eval_strategy` instead\n",
      "  warnings.warn(\n"
     ]
    },
    {
     "data": {
      "text/html": [
       "\n",
       "    <div>\n",
       "      \n",
       "      <progress value='17256' max='57520' style='width:300px; height:20px; vertical-align: middle;'></progress>\n",
       "      [17256/57520 1:33:38 < 3:38:30, 3.07 it/s, Epoch 3/10]\n",
       "    </div>\n",
       "    <table border=\"1\" class=\"dataframe\">\n",
       "  <thead>\n",
       " <tr style=\"text-align: left;\">\n",
       "      <th>Epoch</th>\n",
       "      <th>Training Loss</th>\n",
       "      <th>Validation Loss</th>\n",
       "      <th>Accuracy</th>\n",
       "      <th>F1</th>\n",
       "      <th>Precision</th>\n",
       "      <th>Recall</th>\n",
       "    </tr>\n",
       "  </thead>\n",
       "  <tbody>\n",
       "    <tr>\n",
       "      <td>1</td>\n",
       "      <td>0.556500</td>\n",
       "      <td>0.543814</td>\n",
       "      <td>0.743192</td>\n",
       "      <td>0.696774</td>\n",
       "      <td>0.750662</td>\n",
       "      <td>0.650105</td>\n",
       "    </tr>\n",
       "    <tr>\n",
       "      <td>2</td>\n",
       "      <td>0.514900</td>\n",
       "      <td>0.552068</td>\n",
       "      <td>0.750911</td>\n",
       "      <td>0.722029</td>\n",
       "      <td>0.731516</td>\n",
       "      <td>0.712784</td>\n",
       "    </tr>\n",
       "    <tr>\n",
       "      <td>3</td>\n",
       "      <td>0.530500</td>\n",
       "      <td>0.556581</td>\n",
       "      <td>0.749436</td>\n",
       "      <td>0.721971</td>\n",
       "      <td>0.727220</td>\n",
       "      <td>0.716797</td>\n",
       "    </tr>\n",
       "  </tbody>\n",
       "</table><p>"
      ],
      "text/plain": [
       "<IPython.core.display.HTML object>"
      ]
     },
     "metadata": {},
     "output_type": "display_data"
    },
    {
     "data": {
      "text/html": [],
      "text/plain": [
       "<IPython.core.display.HTML object>"
      ]
     },
     "metadata": {},
     "output_type": "display_data"
    },
    {
     "name": "stdout",
     "output_type": "stream",
     "text": [
      "Fine-Tuned BERT Model Results for TF dimension:\n",
      "Accuracy: 0.8121\n",
      "F1 Score: 0.7681\n",
      "Precision: 0.8852\n",
      "Recall: 0.6784\n",
      "\n",
      "Classification Report for Fine-Tuned BERT Model (TF dimension):\n",
      "               precision    recall  f1-score   support\n",
      "\n",
      "           F       0.77      0.93      0.84       939\n",
      "           T       0.89      0.68      0.77       796\n",
      "\n",
      "    accuracy                           0.81      1735\n",
      "   macro avg       0.83      0.80      0.81      1735\n",
      "weighted avg       0.82      0.81      0.81      1735\n",
      "\n"
     ]
    },
    {
     "data": {
      "image/png": "[encoded data removed]",
      "text/plain": [
       "<Figure size 600x400 with 2 Axes>"
      ]
     },
     "metadata": {},
     "output_type": "display_data"
    },
    {
     "name": "stdout",
     "output_type": "stream",
     "text": [
      "\n",
      "Processing MBTI dimension: JP\n",
      "\n",
      "Training Logistic Regression on BERT embeddings for JP dimension...\n",
      "BERT Embeddings + Logistic Regression Results for JP dimension:\n",
      "Accuracy: 0.6259\n",
      "F1 Score: 0.7152\n",
      "Precision: 0.6621\n",
      "Recall: 0.7777\n",
      "\n",
      "Classification Report for BERT Embeddings + Logistic Regression Model (JP dimension):\n",
      "               precision    recall  f1-score   support\n",
      "\n",
      "           J       0.54      0.39      0.46       687\n",
      "           P       0.66      0.78      0.72      1048\n",
      "\n",
      "    accuracy                           0.63      1735\n",
      "   macro avg       0.60      0.59      0.59      1735\n",
      "weighted avg       0.61      0.63      0.61      1735\n",
      "\n",
      "\n",
      "Training Fine-Tuned BERT model for JP dimension...\n"
     ]
    },
    {
     "name": "stderr",
     "output_type": "stream",
     "text": [
      "Some weights of BertForSequenceClassification were not initialized from the model checkpoint at bert-base-uncased and are newly initialized: ['classifier.bias', 'classifier.weight']\n",
      "You should probably TRAIN this model on a down-stream task to be able to use it for predictions and inference.\n",
      "/Users/olivia/Desktop/230_project/env/lib/python3.8/site-packages/transformers/training_args.py:1568: FutureWarning: `evaluation_strategy` is deprecated and will be removed in version 4.46 of 🤗 Transformers. Use `eval_strategy` instead\n",
      "  warnings.warn(\n"
     ]
    },
    {
     "data": {
      "text/html": [
       "\n",
       "    <div>\n",
       "      \n",
       "      <progress value='23000' max='57500' style='width:300px; height:20px; vertical-align: middle;'></progress>\n",
       "      [23000/57500 2:04:57 < 3:07:26, 3.07 it/s, Epoch 4/10]\n",
       "    </div>\n",
       "    <table border=\"1\" class=\"dataframe\">\n",
       "  <thead>\n",
       " <tr style=\"text-align: left;\">\n",
       "      <th>Epoch</th>\n",
       "      <th>Training Loss</th>\n",
       "      <th>Validation Loss</th>\n",
       "      <th>Accuracy</th>\n",
       "      <th>F1</th>\n",
       "      <th>Precision</th>\n",
       "      <th>Recall</th>\n",
       "    </tr>\n",
       "  </thead>\n",
       "  <tbody>\n",
       "    <tr>\n",
       "      <td>1</td>\n",
       "      <td>0.556400</td>\n",
       "      <td>0.586832</td>\n",
       "      <td>0.676567</td>\n",
       "      <td>0.725711</td>\n",
       "      <td>0.735049</td>\n",
       "      <td>0.716606</td>\n",
       "    </tr>\n",
       "    <tr>\n",
       "      <td>2</td>\n",
       "      <td>0.561500</td>\n",
       "      <td>0.573840</td>\n",
       "      <td>0.712245</td>\n",
       "      <td>0.786536</td>\n",
       "      <td>0.705950</td>\n",
       "      <td>0.887890</td>\n",
       "    </tr>\n",
       "    <tr>\n",
       "      <td>3</td>\n",
       "      <td>0.505100</td>\n",
       "      <td>0.623726</td>\n",
       "      <td>0.702806</td>\n",
       "      <td>0.759023</td>\n",
       "      <td>0.735674</td>\n",
       "      <td>0.783901</td>\n",
       "    </tr>\n",
       "    <tr>\n",
       "      <td>4</td>\n",
       "      <td>0.448400</td>\n",
       "      <td>0.730130</td>\n",
       "      <td>0.706269</td>\n",
       "      <td>0.769503</td>\n",
       "      <td>0.723948</td>\n",
       "      <td>0.821175</td>\n",
       "    </tr>\n",
       "  </tbody>\n",
       "</table><p>"
      ],
      "text/plain": [
       "<IPython.core.display.HTML object>"
      ]
     },
     "metadata": {},
     "output_type": "display_data"
    },
    {
     "data": {
      "text/html": [],
      "text/plain": [
       "<IPython.core.display.HTML object>"
      ]
     },
     "metadata": {},
     "output_type": "display_data"
    },
    {
     "name": "stdout",
     "output_type": "stream",
     "text": [
      "Fine-Tuned BERT Model Results for JP dimension:\n",
      "Accuracy: 0.7654\n",
      "F1 Score: 0.8320\n",
      "Precision: 0.7331\n",
      "Recall: 0.9618\n",
      "\n",
      "Classification Report for Fine-Tuned BERT Model (JP dimension):\n",
      "               precision    recall  f1-score   support\n",
      "\n",
      "           J       0.89      0.47      0.61       687\n",
      "           P       0.73      0.96      0.83      1048\n",
      "\n",
      "    accuracy                           0.77      1735\n",
      "   macro avg       0.81      0.71      0.72      1735\n",
      "weighted avg       0.79      0.77      0.74      1735\n",
      "\n"
     ]
    },
    {
     "data": {
      "image/png": "[encoded data removed]",
      "text/plain": [
       "<Figure size 600x400 with 2 Axes>"
      ]
     },
     "metadata": {},
     "output_type": "display_data"
    }
   ],
   "source": [
    "# Train models for each MBTI dimension\n",
    "dimensions = ['IE', 'NS', 'TF', 'JP']\n",
    "for dim in dimensions:\n",
    "    print(f\"\\nProcessing MBTI dimension: {dim}\")\n",
    "    label_encoder = LabelEncoder()\n",
    "    labels = label_encoder.fit_transform(mbti_df[dim])  # Convert labels to 0 and 1\n",
    "\n",
    "    train_data, test_data, train_labels, test_labels = train_test_split(\n",
    "        mbti_df['posts'], labels, test_size=0.2, random_state=42, stratify=labels\n",
    "    )\n",
    "\n",
    "    # Train and evaluate baseline BERT model\n",
    "    train_baseline_model(train_data, test_data, train_labels, test_labels, label_encoder, dim)\n",
    "\n",
    "    # Train and evaluate Fine-Tuned BERT model\n",
    "    train_bert_model(train_data, test_data, train_labels, test_labels, dim, label_encoder, num_epochs=10)\n"
   ]
  }
 ],
 "metadata": {
  "kernelspec": {
   "display_name": "Python 3 (ipykernel)",
   "language": "python",
   "name": "python3"
  },
  "language_info": {
   "codemirror_mode": {
    "name": "ipython",
    "version": 3
   },
   "file_extension": ".py",
   "mimetype": "text/x-python",
   "name": "python",
   "nbconvert_exporter": "python",
   "pygments_lexer": "ipython3",
   "version": "3.8.20"
  }
 },
 "nbformat": 4,
 "nbformat_minor": 5
}
